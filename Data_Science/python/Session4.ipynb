{
 "cells": [
  {
   "cell_type": "markdown",
   "metadata": {},
   "source": [
    "# Quiz 1"
   ]
  },
  {
   "cell_type": "code",
   "execution_count": 2,
   "metadata": {},
   "outputs": [
    {
     "name": "stdout",
     "output_type": "stream",
     "text": [
      "4\n"
     ]
    }
   ],
   "source": [
    "word = input(\"Please enter word: \")\n",
    "count = 0 \n",
    "for i in  word : \n",
    "    if i in \"aeiouAEIOU\" : \n",
    "        count += 1\n",
    "\n",
    "print(count)"
   ]
  },
  {
   "cell_type": "markdown",
   "metadata": {},
   "source": [
    "# Quiz 2 "
   ]
  },
  {
   "cell_type": "code",
   "execution_count": 5,
   "metadata": {},
   "outputs": [
    {
     "name": "stdout",
     "output_type": "stream",
     "text": [
      "-1\n"
     ]
    }
   ],
   "source": [
    "# 1st solution \n",
    "tmp = [1, 1, 2, -2, 5, 2, 4, 4, -1, -2, 5]\n",
    "# for i in tmp : \n",
    "#     if tmp.count(i) % 2 != 0 :\n",
    "#         print(i)\n",
    "\n",
    "# another solution \n",
    "\n",
    "data = {}\n",
    "for i in tmp:\n",
    "    if i in data:\n",
    "        data[i] += 1\n",
    "    else:\n",
    "        data[i] = 1\n",
    "\n",
    "# print(data)\n",
    "for i in tmp:\n",
    "    if data[i] %2 != 0:\n",
    "        print(i)\n"
   ]
  },
  {
   "cell_type": "markdown",
   "metadata": {},
   "source": [
    "# While Loop"
   ]
  },
  {
   "cell_type": "code",
   "execution_count": 8,
   "metadata": {},
   "outputs": [
    {
     "name": "stdout",
     "output_type": "stream",
     "text": [
      "7\n",
      "6\n",
      "5\n",
      "4\n",
      "3\n",
      "2\n",
      "1\n"
     ]
    }
   ],
   "source": [
    "# Syntax \n",
    "# while (condition) : \n",
    "#      Statement\n",
    "# as long as the condition is True we keep iterating in the loop\n",
    "# Note: we must make the condition False somehow inside the loop or break after a while\n",
    "\n",
    "# x = 7 \n",
    "# while x > 0 :\n",
    "#     print(x)\n",
    "\n",
    "x = 7 \n",
    "while x > 0 :\n",
    "    print(x)\n",
    "    x = x-1 "
   ]
  },
  {
   "cell_type": "code",
   "execution_count": 9,
   "metadata": {},
   "outputs": [
    {
     "name": "stdout",
     "output_type": "stream",
     "text": [
      "5\n",
      "10\n",
      "15\n",
      "20\n",
      "25\n",
      "30\n",
      "35\n",
      "40\n",
      "45\n",
      "50\n"
     ]
    }
   ],
   "source": [
    "i = 1 \n",
    "while i < 11 :\n",
    "    print(i * 5)\n",
    "    i+=1 "
   ]
  },
  {
   "cell_type": "code",
   "execution_count": 12,
   "metadata": {},
   "outputs": [
    {
     "name": "stdout",
     "output_type": "stream",
     "text": [
      "[1, 3, 6, 45, 6]\n"
     ]
    }
   ],
   "source": [
    "data = [\"Hello\",1,3,6,\"Islam\",45,6]\n",
    "idx  = 0 \n",
    "new_list = []\n",
    "while idx < len(data) : \n",
    "    if type(data[idx]) == int : \n",
    "        new_list.append(data[idx])\n",
    "    idx += 1\n",
    "\n",
    "print(new_list)"
   ]
  },
  {
   "cell_type": "markdown",
   "metadata": {},
   "source": [
    "# else with a while loop "
   ]
  },
  {
   "cell_type": "code",
   "execution_count": 13,
   "metadata": {},
   "outputs": [
    {
     "name": "stdout",
     "output_type": "stream",
     "text": [
      "5\n",
      "4\n",
      "3\n",
      "2\n",
      "1\n",
      "0\n"
     ]
    }
   ],
   "source": [
    "x = 5 \n",
    "while x > 0 : \n",
    "    print(x)\n",
    "    x -= 1 \n",
    "else : \n",
    "    print(x)"
   ]
  },
  {
   "cell_type": "markdown",
   "metadata": {},
   "source": [
    "# Quiz3"
   ]
  },
  {
   "cell_type": "code",
   "execution_count": 14,
   "metadata": {},
   "outputs": [
    {
     "name": "stdout",
     "output_type": "stream",
     "text": [
      "Hamming Distance : 5\n"
     ]
    }
   ],
   "source": [
    "S1 = \"abcdef\"\n",
    "S2 = \"zxcvbn\"\n",
    "hd = 0 \n",
    "for i in range(len(S1)) :\n",
    "    if S1[i] != S2[i] :\n",
    "        hd += 1 \n",
    "\n",
    "print(\"Hamming Distance :\",hd)"
   ]
  },
  {
   "cell_type": "markdown",
   "metadata": {},
   "source": [
    "# Functions "
   ]
  },
  {
   "cell_type": "code",
   "execution_count": 16,
   "metadata": {},
   "outputs": [
    {
     "name": "stdout",
     "output_type": "stream",
     "text": [
      "Hello!\n",
      "Hello!\n",
      "Hello!\n"
     ]
    }
   ],
   "source": [
    "# Syntax \n",
    "# def function_name():\n",
    "#   statement of code\n",
    "\n",
    "#function definition\n",
    "def say_hello() : \n",
    "    print(\"Hello!\")\n",
    "\n",
    "# function call \n",
    "say_hello()\n",
    "say_hello()\n",
    "say_hello()"
   ]
  },
  {
   "cell_type": "code",
   "execution_count": 18,
   "metadata": {},
   "outputs": [
    {
     "name": "stdout",
     "output_type": "stream",
     "text": [
      "Hello  Omar\n",
      "Hello  123\n",
      "Hello  Omar\n",
      "Hello  [1, 2, 3]\n"
     ]
    }
   ],
   "source": [
    "# Syntax\n",
    "# def function_Name(Argument):\n",
    "#     Statements of Code\n",
    "\n",
    "def say_hello(name) : \n",
    "    print(\"Hello \" , name)\n",
    "\n",
    "say_hello(\"Omar\")\n",
    "say_hello(123)\n",
    "say_hello(\"Omar\")\n",
    "say_hello([1,2,3])"
   ]
  },
  {
   "cell_type": "code",
   "execution_count": 19,
   "metadata": {},
   "outputs": [
    {
     "name": "stdout",
     "output_type": "stream",
     "text": [
      "11\n",
      "15\n"
     ]
    }
   ],
   "source": [
    "def add(x,y) : \n",
    "    print(x+y)\n",
    "\n",
    "add(5,6)\n",
    "add(7,8)"
   ]
  },
  {
   "cell_type": "markdown",
   "metadata": {},
   "source": [
    "# Function Return"
   ]
  },
  {
   "cell_type": "code",
   "execution_count": 20,
   "metadata": {},
   "outputs": [
    {
     "name": "stdout",
     "output_type": "stream",
     "text": [
      "15\n"
     ]
    }
   ],
   "source": [
    "def add(x,y) :\n",
    "    return x+y\n",
    "\n",
    "tmp = add(8,7)\n",
    "print(tmp)"
   ]
  },
  {
   "cell_type": "code",
   "execution_count": 21,
   "metadata": {},
   "outputs": [
    {
     "name": "stdout",
     "output_type": "stream",
     "text": [
      "15\n"
     ]
    }
   ],
   "source": [
    "res = add(8,add(3,4))\n",
    "print(res)"
   ]
  },
  {
   "cell_type": "markdown",
   "metadata": {},
   "source": [
    "# Quiz4"
   ]
  },
  {
   "cell_type": "code",
   "execution_count": 26,
   "metadata": {},
   "outputs": [
    {
     "data": {
      "text/plain": [
       "'Hello Omar,Hello Ehab'"
      ]
     },
     "execution_count": 26,
     "metadata": {},
     "output_type": "execute_result"
    }
   ],
   "source": [
    "def greetings(names) :\n",
    "    temp = \"\"\n",
    "    for name in names: \n",
    "        temp += \"Hello \" + name + \",\"\n",
    "    temp = temp.strip(\",\")\n",
    "    return temp\n",
    "\n",
    "greetings([\"Omar\" , \"Ehab\"])"
   ]
  },
  {
   "cell_type": "markdown",
   "metadata": {},
   "source": [
    "# Quiz5"
   ]
  },
  {
   "cell_type": "code",
   "execution_count": 27,
   "metadata": {},
   "outputs": [
    {
     "name": "stdout",
     "output_type": "stream",
     "text": [
      "[1, 2, 3]\n"
     ]
    }
   ],
   "source": [
    "def get_integers(lst):\n",
    "    nums = []\n",
    "    for i in lst : \n",
    "        if type(i) == int :\n",
    "            nums.append(i)\n",
    "    return nums \n",
    "\n",
    "print(get_integers([1,2,\"Hello\",\"World\",3]))"
   ]
  },
  {
   "cell_type": "markdown",
   "metadata": {},
   "source": [
    "# Quiz6 "
   ]
  },
  {
   "cell_type": "code",
   "execution_count": 28,
   "metadata": {},
   "outputs": [
    {
     "name": "stdout",
     "output_type": "stream",
     "text": [
      "[3, 4, 5, 1]\n"
     ]
    }
   ],
   "source": [
    "def setify(nums) : \n",
    "    tmp = []\n",
    "    for i in nums : \n",
    "        if i in tmp :\n",
    "            pass\n",
    "        else :\n",
    "            tmp.append(i)\n",
    "    \n",
    "    return tmp\n",
    "\n",
    "print(setify([3,3,4,4,5,1,3]))"
   ]
  },
  {
   "cell_type": "markdown",
   "metadata": {},
   "source": [
    "# unpacking "
   ]
  },
  {
   "cell_type": "code",
   "execution_count": 29,
   "metadata": {},
   "outputs": [
    {
     "name": "stdout",
     "output_type": "stream",
     "text": [
      "(13, -1)\n",
      "13\n",
      "-1\n"
     ]
    }
   ],
   "source": [
    "def calc(x,y):\n",
    "    return x+y , x-y\n",
    "\n",
    "res = calc(6,7)\n",
    "print(res)\n",
    "print(res[0])\n",
    "print(res[1])\n"
   ]
  },
  {
   "cell_type": "code",
   "execution_count": 30,
   "metadata": {},
   "outputs": [
    {
     "name": "stdout",
     "output_type": "stream",
     "text": [
      "13\n",
      "-1\n"
     ]
    }
   ],
   "source": [
    "addition , sub = calc(6,7)\n",
    "print(addition)\n",
    "print(sub)"
   ]
  },
  {
   "cell_type": "markdown",
   "metadata": {},
   "source": [
    "# Arguments"
   ]
  },
  {
   "cell_type": "code",
   "execution_count": null,
   "metadata": {},
   "outputs": [
    {
     "name": "stdout",
     "output_type": "stream",
     "text": [
      "9\n"
     ]
    }
   ],
   "source": [
    "def calc(x,y): # required positional argument\n",
    "    return x+y\n",
    "\n",
    "print(calc(4,5))\n",
    "# print(calc(4)) # Error"
   ]
  },
  {
   "cell_type": "code",
   "execution_count": 33,
   "metadata": {},
   "outputs": [
    {
     "name": "stdout",
     "output_type": "stream",
     "text": [
      "9\n",
      "6\n"
     ]
    }
   ],
   "source": [
    "def calc(x , y=0): #default Arguments\n",
    "    return x + y\n",
    "\n",
    "print(calc(4,5)) \n",
    "print(calc(6)) "
   ]
  },
  {
   "cell_type": "code",
   "execution_count": 34,
   "metadata": {},
   "outputs": [
    {
     "name": "stdout",
     "output_type": "stream",
     "text": [
      "[12, 3]\n",
      "[3]\n"
     ]
    }
   ],
   "source": [
    "tmp = [12,3,4]\n",
    "tmp.pop()\n",
    "print(tmp)\n",
    "\n",
    "tmp.pop(0)\n",
    "print(tmp)"
   ]
  },
  {
   "cell_type": "markdown",
   "metadata": {},
   "source": [
    "Variable length argument"
   ]
  },
  {
   "cell_type": "code",
   "execution_count": 35,
   "metadata": {},
   "outputs": [
    {
     "name": "stdout",
     "output_type": "stream",
     "text": [
      "Hello\n",
      "Hello World\n",
      "Hello World Ahmed\n"
     ]
    }
   ],
   "source": [
    "print(\"Hello\")\n",
    "print(\"Hello\",\"World\")\n",
    "print(\"Hello\",\"World\",\"Ahmed\")"
   ]
  },
  {
   "cell_type": "code",
   "execution_count": 36,
   "metadata": {},
   "outputs": [
    {
     "ename": "TypeError",
     "evalue": "add() takes 2 positional arguments but 3 were given",
     "output_type": "error",
     "traceback": [
      "\u001b[1;31m---------------------------------------------------------------------------\u001b[0m",
      "\u001b[1;31mTypeError\u001b[0m                                 Traceback (most recent call last)",
      "Cell \u001b[1;32mIn[36], line 4\u001b[0m\n\u001b[0;32m      1\u001b[0m \u001b[38;5;28;01mdef\u001b[39;00m \u001b[38;5;21madd\u001b[39m(x,y) :\n\u001b[0;32m      2\u001b[0m     \u001b[38;5;28;01mreturn\u001b[39;00m x\u001b[38;5;241m+\u001b[39my \n\u001b[1;32m----> 4\u001b[0m \u001b[38;5;28mprint\u001b[39m(\u001b[43madd\u001b[49m\u001b[43m(\u001b[49m\u001b[38;5;241;43m3\u001b[39;49m\u001b[43m,\u001b[49m\u001b[38;5;241;43m4\u001b[39;49m\u001b[43m,\u001b[49m\u001b[38;5;241;43m5\u001b[39;49m\u001b[43m)\u001b[49m)\n",
      "\u001b[1;31mTypeError\u001b[0m: add() takes 2 positional arguments but 3 were given"
     ]
    }
   ],
   "source": [
    "def add(x,y) :\n",
    "    return x+y \n",
    "\n",
    "print(add(3,4,5))"
   ]
  },
  {
   "cell_type": "code",
   "execution_count": 37,
   "metadata": {},
   "outputs": [
    {
     "name": "stdout",
     "output_type": "stream",
     "text": [
      "(1, 2, 3, 4, 5, 6, 7, 8, 9)\n"
     ]
    }
   ],
   "source": [
    "def add(*nums) :\n",
    "    print(nums) \n",
    "\n",
    "add(1,2,3,4,5,6,7,8,9)"
   ]
  },
  {
   "cell_type": "code",
   "execution_count": null,
   "metadata": {},
   "outputs": [],
   "source": []
  },
  {
   "cell_type": "code",
   "execution_count": 38,
   "metadata": {},
   "outputs": [
    {
     "data": {
      "text/plain": [
       "52"
      ]
     },
     "execution_count": 38,
     "metadata": {},
     "output_type": "execute_result"
    }
   ],
   "source": [
    "def add(*nums) : \n",
    "    s= 0 \n",
    "    for i in nums :\n",
    "        s += i \n",
    "    return s \n",
    "\n",
    "add(3,4,6,7,8,4,2,5,6,7)"
   ]
  },
  {
   "cell_type": "markdown",
   "metadata": {},
   "source": [
    "Keyword Arguments"
   ]
  },
  {
   "cell_type": "code",
   "execution_count": 39,
   "metadata": {},
   "outputs": [
    {
     "name": "stdout",
     "output_type": "stream",
     "text": [
      "{'x': 4, 'y': 5, 'z': 6}\n"
     ]
    }
   ],
   "source": [
    "def func(**data ) : # Keyword Argument\n",
    "    print(data)\n",
    "\n",
    "func(x=4,y=5,z=6)"
   ]
  },
  {
   "cell_type": "code",
   "execution_count": 40,
   "metadata": {},
   "outputs": [
    {
     "name": "stdout",
     "output_type": "stream",
     "text": [
      "1 3 4 (12, 43, 23) {'s': 46}\n"
     ]
    }
   ],
   "source": [
    "# Q : In what order should each type of arguments exist in a function\n",
    "#  required_positional  -> defaults  ->  variable_lenght -> KeywordArguments\n",
    "\n",
    "def func(x,y,z=7,*var , **kw) :\n",
    "    print(x,y,z,var,kw)\n",
    "\n",
    "func(1,3,4,12,43,23,s=46)"
   ]
  },
  {
   "cell_type": "markdown",
   "metadata": {},
   "source": [
    "create a function to separate a number of integres to two lists\n",
    "even and odd integers"
   ]
  },
  {
   "cell_type": "code",
   "execution_count": 41,
   "metadata": {},
   "outputs": [
    {
     "name": "stdout",
     "output_type": "stream",
     "text": [
      "([54, 2, 78, 12, 46, 6], [21, 57, 45, 23])\n"
     ]
    }
   ],
   "source": [
    "def split_numbers(nums) :\n",
    "    evens = []\n",
    "    odds = []\n",
    "    for i in nums :\n",
    "        if i % 2 == 0 :\n",
    "            evens.append(i)\n",
    "        else:\n",
    "            odds.append(i)\n",
    "\n",
    "    return evens , odds\n",
    "\n",
    "print(split_numbers([21,54,2,57,78,45,23,12,46,6]))"
   ]
  },
  {
   "cell_type": "markdown",
   "metadata": {},
   "source": [
    "# Quiz 7"
   ]
  },
  {
   "cell_type": "code",
   "execution_count": 44,
   "metadata": {},
   "outputs": [
    {
     "name": "stdout",
     "output_type": "stream",
     "text": [
      "increasing\n",
      "increasing\n",
      "decreasing\n",
      "neither\n"
     ]
    }
   ],
   "source": [
    "def check_list(lst) :\n",
    "    status = None\n",
    "    if lst[0] > lst[1] :\n",
    "        status = \"decreasing\"\n",
    "    elif lst[0] < lst[1] :\n",
    "        status = \"increasing\"\n",
    "    else :\n",
    "        return \"neither\"\n",
    "    \n",
    "    for i in range(1,len(lst)-1) : \n",
    "        if lst[i] > lst[i+1] and status == \"increasing\" :\n",
    "            status = \"neither\"\n",
    "        elif lst[i] < lst[i+1] and status == \"decreasing\" :\n",
    "            status = \"neither\"\n",
    "            break \n",
    "    return status\n",
    "\n",
    "print(check_list([1,2,3]))\n",
    "print(check_list([1,2,3,4,5]))\n",
    "print(check_list([4,3,2,1]))\n",
    "print(check_list([1,2,3,1,2]))"
   ]
  },
  {
   "cell_type": "markdown",
   "metadata": {},
   "source": [
    "# Quiz8"
   ]
  },
  {
   "cell_type": "code",
   "execution_count": 1,
   "metadata": {},
   "outputs": [
    {
     "name": "stdout",
     "output_type": "stream",
     "text": [
      "unvalid input.\n",
      "unvalid input.\n"
     ]
    }
   ],
   "source": [
    "students_list = {\"Ahmed\" : [80,85,76, 73 ,58,90] , \"Ali\" :[90,75,66, 78 ,68,70]}\n",
    "p = 0\n",
    "z = \"\"\n",
    "y = []\n",
    "total = 0\n",
    "avg =0\n",
    "while True :\n",
    "    a = input(\"1- add student. \\n 2- calculate. \\n 3- display students. \\n 4- delete student. \\n 5- exit. \\n choose an option : \")\n",
    "    if a in \"12345\" :\n",
    "        if a == \"1\" : \n",
    "            name = input(\"Please enter the student name:\")\n",
    "            grades = input(\"please Enter a list of numbers space-separated : \")\n",
    "            for i in range(len(grades)) : \n",
    "                if grades[i] == \" \" :\n",
    "                    z = grades[p:i]\n",
    "                    y.append(int(z))\n",
    "                    p = i+1\n",
    "            z = grades[p:]\n",
    "            y.append(int(z))\n",
    "            students_list[name] = y \n",
    "            print(name , \"is added successfully \")\n",
    "        elif a == \"2\" :\n",
    "            d = input(\"enter a student : \")\n",
    "            if d in students_list.keys() : \n",
    "                for c in students_list[name] :\n",
    "                    total += c \n",
    "                    avg = total / len(students_list[name])\n",
    "                print(\"avrege = \" , avg)\n",
    "            else : \n",
    "                print(\"student isn't exist. \")\n",
    "        elif a == \"3\" :\n",
    "                for i in students_list.keys():\n",
    "                    print(i, \" : \" , students_list[i])\n",
    "        elif a == \"4\" :\n",
    "            o = input(\"Please enter a student name :\")\n",
    "            if o in students_list.keys() :\n",
    "                students_list.pop(o)\n",
    "            else :\n",
    "                print(\"student isn't exist. \")\n",
    "        elif a == \"5\" :\n",
    "            break \n",
    "        else :\n",
    "            print(\"unvalid input.\")\n",
    "    else : \n",
    "         print(\"unvalid input.\")"
   ]
  },
  {
   "cell_type": "code",
   "execution_count": null,
   "metadata": {},
   "outputs": [],
   "source": []
  }
 ],
 "metadata": {
  "kernelspec": {
   "display_name": "base",
   "language": "python",
   "name": "python3"
  },
  "language_info": {
   "codemirror_mode": {
    "name": "ipython",
    "version": 3
   },
   "file_extension": ".py",
   "mimetype": "text/x-python",
   "name": "python",
   "nbconvert_exporter": "python",
   "pygments_lexer": "ipython3",
   "version": "3.12.3"
  }
 },
 "nbformat": 4,
 "nbformat_minor": 2
}
