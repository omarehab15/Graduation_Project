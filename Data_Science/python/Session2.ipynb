{
 "cells": [
  {
   "cell_type": "markdown",
   "metadata": {},
   "source": [
    "# String"
   ]
  },
  {
   "cell_type": "code",
   "execution_count": 2,
   "metadata": {},
   "outputs": [
    {
     "name": "stdout",
     "output_type": "stream",
     "text": [
      "Omar\n",
      "OmarEhab\n",
      "OmarOmarOmar\n",
      "m\n",
      "a\n",
      "m\n",
      "Oma\n",
      "ar\n",
      "r\n",
      "m\n",
      "Oa\n"
     ]
    }
   ],
   "source": [
    "name = \"Omar\"\n",
    "print(name)\n",
    "\n",
    "# Add / Multiply \n",
    "print(name + \"Ehab\")        # concatinate \n",
    "print(name * 3 )            # Retitition\n",
    "\n",
    "# Slicing\n",
    "print(name[1])\n",
    "print(name[2])\n",
    "print(name[1:2])\n",
    "print(name[:3])\n",
    "print(name[2:])\n",
    "\n",
    "print(name[-1])\n",
    "print(name[-3])\n",
    "\n",
    "# Step Size \n",
    "print(name[0:5:2])"
   ]
  },
  {
   "cell_type": "markdown",
   "metadata": {},
   "source": [
    "# Input"
   ]
  },
  {
   "cell_type": "code",
   "execution_count": 3,
   "metadata": {},
   "outputs": [
    {
     "name": "stdout",
     "output_type": "stream",
     "text": [
      "5\n"
     ]
    }
   ],
   "source": [
    "number = input()\n",
    "print(number)"
   ]
  },
  {
   "cell_type": "code",
   "execution_count": 4,
   "metadata": {},
   "outputs": [
    {
     "name": "stdout",
     "output_type": "stream",
     "text": [
      "333\n"
     ]
    }
   ],
   "source": [
    "number = input(\"Please enter a number :\")\n",
    "print(number * 3)"
   ]
  },
  {
   "cell_type": "code",
   "execution_count": 6,
   "metadata": {},
   "outputs": [
    {
     "name": "stdout",
     "output_type": "stream",
     "text": [
      "9\n"
     ]
    }
   ],
   "source": [
    "# Casting \n",
    "# int() , float()\n",
    "\n",
    "# number = input(\"Please enter a number :\")\n",
    "# number = int(number)\n",
    "number = int(input(\"Please enter a number :\"))\n",
    "print(number * 3)"
   ]
  },
  {
   "cell_type": "code",
   "execution_count": 7,
   "metadata": {},
   "outputs": [
    {
     "name": "stdout",
     "output_type": "stream",
     "text": [
      "fifty\n"
     ]
    }
   ],
   "source": [
    "number = 50 \n",
    "number = \"fifty\"\n",
    "print(number)"
   ]
  },
  {
   "cell_type": "code",
   "execution_count": 8,
   "metadata": {},
   "outputs": [
    {
     "name": "stdout",
     "output_type": "stream",
     "text": [
      "28\n"
     ]
    }
   ],
   "source": [
    "x = int(input(\"Please enter a number :\"))\n",
    "y = int(input(\"Please enter a number :\"))\n",
    "print(x+y)"
   ]
  },
  {
   "cell_type": "markdown",
   "metadata": {},
   "source": [
    "# Data Structure \n",
    "- Sequantial        ==> List , Tuple\n",
    "- Non-Sequantial    ==> Dictionary , Set"
   ]
  },
  {
   "cell_type": "markdown",
   "metadata": {},
   "source": [
    "# List "
   ]
  },
  {
   "cell_type": "code",
   "execution_count": 9,
   "metadata": {},
   "outputs": [
    {
     "name": "stdout",
     "output_type": "stream",
     "text": [
      "[1, 10, 2001, 'Omar']\n",
      "1\n",
      "2001\n",
      "[1, 10, 2001, 5]\n",
      "[1, 10, 2001, 5, 10]\n",
      "[1, 10, 3, 2001, 5, 10]\n",
      "[1, 10, 3, 2001, 5, 10, 7, 8, 9]\n"
     ]
    }
   ],
   "source": [
    "# Create a List \n",
    "nums = [1,10,2001,\"Omar\"]\n",
    "print(nums)\n",
    "\n",
    "#Slicing \n",
    "print(nums[0])\n",
    "print(nums[2])\n",
    "\n",
    "# Modification\n",
    "nums[3] = 5 \n",
    "print(nums)\n",
    "\n",
    "# Add new items \n",
    "nums.append(10)\n",
    "print(nums)\n",
    "\n",
    "nums.insert(2,3)\n",
    "print(nums)\n",
    "\n",
    "# Concatination\n",
    "tmp = [7,8,9]\n",
    "nums.extend(tmp)\n",
    "print(nums)"
   ]
  },
  {
   "cell_type": "code",
   "execution_count": 12,
   "metadata": {},
   "outputs": [
    {
     "name": "stdout",
     "output_type": "stream",
     "text": [
      "[1, 2, 3, 4, 5, 6, 7, 8]\n",
      "[1, 2, 4, 5, 6, 7, 8]\n",
      "[1, 2, 4, 5, 6, 8]\n",
      "['Ahmed', 'Omar', 'Reham']\n",
      "[2, 3, 23, 34, 35, 56, 67, 67]\n",
      "[67, 67, 56, 35, 34, 23, 3, 2]\n",
      "4\n",
      "[]\n"
     ]
    }
   ],
   "source": [
    "nums = [1,2,3,4,5,6,7,8,9]\n",
    "\n",
    "# Remove items \n",
    "nums.pop()\n",
    "print(nums)\n",
    "\n",
    "nums.pop(2)\n",
    "print(nums)\n",
    "\n",
    "nums.remove(7)\n",
    "print(nums)\n",
    "\n",
    "# Sorting \n",
    "names = [\"Omar\" , \"Ahmed\" , \"Reham\"]\n",
    "names.sort()\n",
    "print(names)\n",
    "\n",
    "numbers = [35,67,2,23,56,67,34,3]\n",
    "numbers.sort()\n",
    "print(numbers)\n",
    "\n",
    "numbers = [35,67,2,23,56,67,34,3]\n",
    "numbers.sort(reverse=True)\n",
    "print(numbers)\n",
    "\n",
    "print(numbers.index(34))\n",
    "\n",
    "#clear thw whole list \n",
    "numbers.clear()\n",
    "print(numbers)\n"
   ]
  },
  {
   "cell_type": "markdown",
   "metadata": {},
   "source": [
    "# Quiz"
   ]
  },
  {
   "cell_type": "code",
   "execution_count": 1,
   "metadata": {},
   "outputs": [
    {
     "name": "stdout",
     "output_type": "stream",
     "text": [
      "[10, 20, 30, 40, 50]\n",
      "sum of the numbers :  150\n",
      "average of the numbers :  30.0\n",
      "the number is equal to the average.\n"
     ]
    }
   ],
   "source": [
    "# 15 16 12 8 23 10 \n",
    "x = input(\"please Enter a list of numbers space-separated : \")\n",
    "p = 0\n",
    "z = \"\"\n",
    "y = []\n",
    "for i in range(len(x)) : \n",
    "    if x[i] == \" \" :\n",
    "        z = x[p:i]\n",
    "        y.append(int(z))\n",
    "        p = i+1\n",
    "    \n",
    "\n",
    "\n",
    "z = x[p:]\n",
    "y.append(int(z))\n",
    "\n",
    "print(y)\n",
    "a = int(input(\"please Enter random number :\"))\n",
    "total = 0\n",
    "for c in y :\n",
    "    total += c \n",
    "print(\"sum of the numbers : \" , total )\n",
    "avg = total / len(y)\n",
    "print(\"average of the numbers : \" , avg )\n",
    "if a > avg : \n",
    "    print(\"the number is geater than the average.\")\n",
    "elif a < avg : \n",
    "    print(\"the number is less than the average.\")\n",
    "if a == avg : \n",
    "    print(\"the number is equal to the average.\")\n",
    "\n"
   ]
  }
 ],
 "metadata": {
  "kernelspec": {
   "display_name": "base",
   "language": "python",
   "name": "python3"
  },
  "language_info": {
   "codemirror_mode": {
    "name": "ipython",
    "version": 3
   },
   "file_extension": ".py",
   "mimetype": "text/x-python",
   "name": "python",
   "nbconvert_exporter": "python",
   "pygments_lexer": "ipython3",
   "version": "3.12.3"
  }
 },
 "nbformat": 4,
 "nbformat_minor": 2
}
