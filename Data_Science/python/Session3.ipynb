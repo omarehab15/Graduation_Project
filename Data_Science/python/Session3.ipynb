{
 "cells": [
  {
   "cell_type": "markdown",
   "metadata": {},
   "source": [
    "# Lists "
   ]
  },
  {
   "cell_type": "code",
   "execution_count": 1,
   "metadata": {},
   "outputs": [
    {
     "name": "stdout",
     "output_type": "stream",
     "text": [
      "[[1, 2, 3], [4, 5, 6]]\n",
      "[1, 2, 3]\n",
      "3\n"
     ]
    }
   ],
   "source": [
    "nums = [[1,2,3],[4,5,6]]\n",
    "print(nums)\n",
    "print(nums[0])\n",
    "print(nums[0][2])"
   ]
  },
  {
   "cell_type": "code",
   "execution_count": 3,
   "metadata": {},
   "outputs": [
    {
     "name": "stdout",
     "output_type": "stream",
     "text": [
      "15\n",
      "15\n"
     ]
    }
   ],
   "source": [
    "nums = []\n",
    "a = int(input(\"Please enter a number : \"))\n",
    "b = int(input(\"Please enter a number : \"))\n",
    "c = int(input(\"Please enter a number : \"))\n",
    "nums.extend([a,b,c])\n",
    "print(nums[0] + nums[1] + nums[2])\n",
    "print(sum(nums))"
   ]
  },
  {
   "cell_type": "markdown",
   "metadata": {},
   "source": [
    "# Tuple "
   ]
  },
  {
   "cell_type": "code",
   "execution_count": 6,
   "metadata": {},
   "outputs": [
    {
     "name": "stdout",
     "output_type": "stream",
     "text": [
      "(3, 6, 5, 9, 8, 6)\n",
      "<class 'tuple'>\n",
      "9\n"
     ]
    }
   ],
   "source": [
    "data = (3,6,5,9,8,6)\n",
    "print(data)\n",
    "print(type(data))\n",
    "\n",
    "# Slicing\n",
    "print(data[3])\n",
    "\n",
    "# data[3] = 7 #ERROR "
   ]
  },
  {
   "cell_type": "markdown",
   "metadata": {},
   "source": [
    "# Dictionary"
   ]
  },
  {
   "cell_type": "code",
   "execution_count": 8,
   "metadata": {},
   "outputs": [
    {
     "name": "stdout",
     "output_type": "stream",
     "text": [
      "{'Name': 'Omar', 'ID': 123456789, 'Age': 23}\n",
      "<class 'dict'>\n",
      "Omar\n",
      "23\n",
      "{'Name': 'Omar', 'ID': 20190021, 'Age': 23}\n",
      "{'Name': 'Omar', 'ID': 20190021, 'Age': 23, 'City': '6th of October '}\n",
      "{'Name': 'Omar', 'ID': 20190021, 'Age': 23, 'City': 'Cairo'}\n",
      "{'Name': 'Omar', 'ID': 20190021, 'Age': 23, 'City': 'Cairo', 'Gender': 'Male'}\n",
      "{'Name': 'Omar', 'ID': 20190021, 'Age': 23, 'City': 'Cairo', 'Gender': 'Male'}\n",
      "{'Name': 'Omar', 'ID': 20190021, 'Age': 23, 'City': 'Cairo', 'Gender': 'Male', 1: 2, 3: 4}\n"
     ]
    }
   ],
   "source": [
    "# data = {Key : Value}\n",
    "# Key --> can be int or str \n",
    "# value --> can be any python object \n",
    "\n",
    "data = {\"Name\" : \"Omar\" , \"ID\" : 123456789 , \"Age\" : 23}\n",
    "print(data)\n",
    "print(type(data))\n",
    "\n",
    "# Slicing\n",
    "print(data[\"Name\"])\n",
    "print(data[\"Age\"])\n",
    "\n",
    "# Modify\n",
    "data[\"ID\"] = 20190021\n",
    "print(data)\n",
    "\n",
    "#Adding new items\n",
    "data[\"City\"] = \"6th of October \"\n",
    "print(data)\n",
    "data[\"City\"] = \"Cairo\"\n",
    "print(data)\n",
    "\n",
    "data.setdefault(\"Gender\" , \"Male\")\n",
    "print(data)\n",
    "data.setdefault(\"Gender\" , \"MALE\")\n",
    "print(data)\n",
    "\n",
    "tmp = {1 : 2 , 3 : 4}\n",
    "data.update(tmp)\n",
    "print(data)"
   ]
  },
  {
   "cell_type": "code",
   "execution_count": 2,
   "metadata": {},
   "outputs": [
    {
     "name": "stdout",
     "output_type": "stream",
     "text": [
      "{'Name': 'Omar', 'ID': 123456789, 'Age': 23, 'Gender': 'Male'}\n",
      "{'Name': 'Omar', 'ID': 123456789, 'Age': 23}\n",
      "dict_keys(['Name', 'ID', 'Age'])\n",
      "dict_items([('Name', 'Omar'), ('ID', 123456789), ('Age', 23)])\n",
      "dict_values(['Omar', 123456789, 23])\n"
     ]
    }
   ],
   "source": [
    "data = {\"Name\" : \"Omar\" , \"ID\" : 123456789 , \"Age\" : 23, 'City': 'Cairo', 'Gender': 'Male'}\n",
    "\n",
    "# remove items \n",
    "data.pop(\"City\")\n",
    "print(data)\n",
    "\n",
    "data.popitem()\n",
    "print(data)\n",
    "\n",
    "# data.clear()\n",
    "# print(data)\n",
    "\n",
    "print(data.keys())\n",
    "print(data.items())\n",
    "print(data.values())"
   ]
  },
  {
   "cell_type": "code",
   "execution_count": 3,
   "metadata": {},
   "outputs": [
    {
     "name": "stdout",
     "output_type": "stream",
     "text": [
      "{'ID': 123, 'Name': 'Omar', 'City': 'Cairo'}\n",
      "{'ID': 123, 'Name': 'Omar', 'City': 'Cairo'}\n"
     ]
    }
   ],
   "source": [
    "# Shallow Copy\n",
    "d1 = {\"ID\" : 123 , \"Name\" : \"Omar\"}\n",
    "d2 = d1 \n",
    "d2.setdefault(\"City\" , \"Cairo\")\n",
    "print(d1)\n",
    "print(d2)"
   ]
  },
  {
   "cell_type": "code",
   "execution_count": 4,
   "metadata": {},
   "outputs": [
    {
     "name": "stdout",
     "output_type": "stream",
     "text": [
      "{'ID': 123, 'Name': 'Omar'}\n",
      "{'ID': 123, 'Name': 'Omar', 'City': 'Cairo'}\n"
     ]
    }
   ],
   "source": [
    "# Deep Copy\n",
    "d1 = {\"ID\" : 123 , \"Name\" : \"Omar\"}\n",
    "d2 = d1.copy() \n",
    "d2.setdefault(\"City\" , \"Cairo\")\n",
    "print(d1)\n",
    "print(d2)"
   ]
  },
  {
   "cell_type": "markdown",
   "metadata": {},
   "source": [
    "# Set "
   ]
  },
  {
   "cell_type": "code",
   "execution_count": 5,
   "metadata": {},
   "outputs": [
    {
     "name": "stdout",
     "output_type": "stream",
     "text": [
      "{34, 5, 54, 23, 668}\n",
      "<class 'set'>\n",
      "{6, 7}\n",
      "{34, 668, 54}\n",
      "{34, 5, 6, 7, 54, 23, 668}\n",
      "{5, 23}\n"
     ]
    }
   ],
   "source": [
    "nums = {23 , 54 , 23 , 5 , 668 , 34}\n",
    "print(nums)\n",
    "print(type(nums))\n",
    "\n",
    "tmp = {23 , 7 , 6 , 5}\n",
    "print(tmp.difference(nums))\n",
    "print(nums.difference(tmp))\n",
    "\n",
    "print(nums.union(tmp))\n",
    "print(nums.intersection(tmp))"
   ]
  },
  {
   "cell_type": "markdown",
   "metadata": {},
   "source": [
    "# Control Flow \n",
    "- Conditional ==> if , elif , else\n",
    "- Loops ==> for , while "
   ]
  },
  {
   "cell_type": "code",
   "execution_count": 2,
   "metadata": {},
   "outputs": [
    {
     "name": "stdout",
     "output_type": "stream",
     "text": [
      "X is equal to five\n"
     ]
    }
   ],
   "source": [
    "# If condition \n",
    "# Syntax \n",
    "# if (condition_1) : \n",
    "#   Statement_1     Statement_1 is executed only if condition_1 is True\n",
    "# elif (condition_2) : \n",
    "#   Statement_2      Statement_2 is executed if condition_1 is False and \n",
    "#                      condition_2 is True\n",
    "# else :\n",
    "#     Statement_3      Statement_3 is execued only if condition_1 and 2 are False\n",
    "#                       (Default Case)\n",
    "\n",
    "x = 5 \n",
    "if x > 5 : \n",
    "    print(\"X is larger than five\") \n",
    "elif x < 5 : \n",
    "    print(\"X is less than five\") \n",
    "else : \n",
    "    print(\"X is equal to five\") \n"
   ]
  },
  {
   "cell_type": "code",
   "execution_count": 4,
   "metadata": {},
   "outputs": [
    {
     "name": "stdout",
     "output_type": "stream",
     "text": [
      "NOK\n"
     ]
    }
   ],
   "source": [
    "a = int(input(\"Please enter a number :\"))\n",
    "b = int(input(\"Please enter a number :\"))\n",
    "\n",
    "if a+b > 50 :\n",
    "    print(\"OK\")\n",
    "else :\n",
    "    print(\"NOK\")"
   ]
  },
  {
   "cell_type": "code",
   "execution_count": 5,
   "metadata": {},
   "outputs": [
    {
     "name": "stdout",
     "output_type": "stream",
     "text": [
      "B\n",
      "C\n"
     ]
    }
   ],
   "source": [
    "grade = 80 \n",
    "if grade > 90 :\n",
    "    print(\"A\")\n",
    "if grade >= 80 :\n",
    "    print(\"B\")\n",
    "if grade >= 70 :\n",
    "    print(\"C\")"
   ]
  },
  {
   "cell_type": "code",
   "execution_count": 6,
   "metadata": {},
   "outputs": [
    {
     "name": "stdout",
     "output_type": "stream",
     "text": [
      "B\n"
     ]
    }
   ],
   "source": [
    "grade = 80 \n",
    "if grade > 90 :\n",
    "    print(\"A\")\n",
    "elif grade >= 80 :\n",
    "    print(\"B\")\n",
    "elif grade >= 70 :\n",
    "    print(\"C\")"
   ]
  },
  {
   "cell_type": "markdown",
   "metadata": {},
   "source": [
    "# For Loop "
   ]
  },
  {
   "cell_type": "code",
   "execution_count": 7,
   "metadata": {},
   "outputs": [
    {
     "name": "stdout",
     "output_type": "stream",
     "text": [
      "3\n",
      "4\n",
      "5\n"
     ]
    }
   ],
   "source": [
    "# Syntax \n",
    "# for (iterator) in (iterable) : \n",
    "#           (Statement Block)\n",
    "\n",
    "for i in [3 , 4 ,5] :\n",
    "    print(i)"
   ]
  },
  {
   "cell_type": "code",
   "execution_count": 8,
   "metadata": {},
   "outputs": [
    {
     "name": "stdout",
     "output_type": "stream",
     "text": [
      "5\n",
      "10\n",
      "15\n",
      "20\n",
      "25\n",
      "30\n",
      "35\n",
      "40\n",
      "45\n",
      "50\n"
     ]
    }
   ],
   "source": [
    "for i in [1,2,3,4,5,6,7,8,9,10] : \n",
    "    print(i*5)"
   ]
  },
  {
   "cell_type": "code",
   "execution_count": 11,
   "metadata": {},
   "outputs": [
    {
     "name": "stdout",
     "output_type": "stream",
     "text": [
      "range(0, 10)\n",
      "[0, 1, 2, 3, 4, 5, 6, 7, 8, 9]\n",
      "[2, 3, 4, 5, 6, 7, 8, 9, 10, 11]\n",
      "[2, 5, 8, 11]\n"
     ]
    }
   ],
   "source": [
    "# generators\n",
    "# range \n",
    "print(range(10))\n",
    "print(list(range(10)))\n",
    "print(list(range(2,12)))\n",
    "print(list(range(2 , 12 , 3 )))"
   ]
  },
  {
   "cell_type": "code",
   "execution_count": 12,
   "metadata": {},
   "outputs": [
    {
     "name": "stdout",
     "output_type": "stream",
     "text": [
      "5\n",
      "10\n",
      "15\n",
      "20\n",
      "25\n",
      "30\n",
      "35\n",
      "40\n",
      "45\n",
      "50\n"
     ]
    }
   ],
   "source": [
    "for i in range(1,11) :\n",
    "    print(i * 5)"
   ]
  },
  {
   "cell_type": "code",
   "execution_count": 13,
   "metadata": {},
   "outputs": [
    {
     "name": "stdout",
     "output_type": "stream",
     "text": [
      "5\n",
      "10\n",
      "15\n",
      "20\n",
      "25\n",
      "30\n",
      "35\n",
      "40\n",
      "45\n",
      "50\n"
     ]
    }
   ],
   "source": [
    "for i in range(5 , 51 , 5) :\n",
    "    print(i)"
   ]
  },
  {
   "cell_type": "code",
   "execution_count": 14,
   "metadata": {},
   "outputs": [
    {
     "name": "stdout",
     "output_type": "stream",
     "text": [
      "0\n",
      "1\n",
      "2\n",
      "4\n"
     ]
    }
   ],
   "source": [
    "#pass , break , continue \n",
    "\n",
    "for i in range(5) :\n",
    "    if i == 3 :\n",
    "        pass\n",
    "    else :\n",
    "        print(i)"
   ]
  },
  {
   "cell_type": "code",
   "execution_count": 15,
   "metadata": {},
   "outputs": [
    {
     "name": "stdout",
     "output_type": "stream",
     "text": [
      "0\n",
      "1\n",
      "2\n",
      "4\n"
     ]
    }
   ],
   "source": [
    "for i in range(5) : \n",
    "    if i == 3:\n",
    "        continue\n",
    "    print(i)"
   ]
  },
  {
   "cell_type": "code",
   "execution_count": 16,
   "metadata": {},
   "outputs": [
    {
     "name": "stdout",
     "output_type": "stream",
     "text": [
      "0\n",
      "1\n"
     ]
    }
   ],
   "source": [
    "for i in range(5) : \n",
    "    if i == 2 : \n",
    "        break\n",
    "    print(i)"
   ]
  },
  {
   "cell_type": "code",
   "execution_count": 18,
   "metadata": {},
   "outputs": [
    {
     "name": "stdout",
     "output_type": "stream",
     "text": [
      "[2, 4, 6]\n"
     ]
    }
   ],
   "source": [
    "x = int(input(\"Please enter a number:\"))\n",
    "y = int(input(\"Please enter a number:\"))\n",
    "tmp = []\n",
    "for i in range(x,y+1):\n",
    "    if i%2==0:\n",
    "        tmp.append(i)\n",
    "\n",
    "print(tmp)"
   ]
  },
  {
   "cell_type": "code",
   "execution_count": 19,
   "metadata": {},
   "outputs": [
    {
     "name": "stdout",
     "output_type": "stream",
     "text": [
      "3\n",
      "4\n"
     ]
    }
   ],
   "source": [
    "x = int(input(\"Please enter a number :\"))\n",
    "y = int(input(\"Please enter a number :\"))\n",
    "for i in range(x,y+1):\n",
    "    print(i)\n",
    "    if i%4 == 0:\n",
    "        break"
   ]
  },
  {
   "cell_type": "code",
   "execution_count": 22,
   "metadata": {},
   "outputs": [
    {
     "name": "stdout",
     "output_type": "stream",
     "text": [
      "Hello\n"
     ]
    }
   ],
   "source": [
    "# True , False \n",
    "if -5 :\n",
    "    print(\"Hello\")"
   ]
  },
  {
   "cell_type": "code",
   "execution_count": 23,
   "metadata": {},
   "outputs": [
    {
     "data": {
      "text/plain": [
       "1"
      ]
     },
     "execution_count": 23,
     "metadata": {},
     "output_type": "execute_result"
    }
   ],
   "source": [
    "i = 21 \n",
    "i % 4"
   ]
  },
  {
   "cell_type": "markdown",
   "metadata": {},
   "source": [
    "# Quiz"
   ]
  },
  {
   "cell_type": "code",
   "execution_count": null,
   "metadata": {},
   "outputs": [
    {
     "name": "stdout",
     "output_type": "stream",
     "text": [
      "Product name :  milk\n",
      "Product's price :  48\n",
      "Product's quantity :  12\n",
      "Product name :  eggs\n",
      "Product's price :  3\n",
      "Product's quantity :  265\n",
      "Product name :  cheese\n",
      "Product's price :  50.0\n",
      "Product's quantity :  40\n",
      "Product name :  milk\n",
      "Product's price :  48\n",
      "Product's quantity :  12\n",
      "Product name :  cheese\n",
      "Product's price :  50.0\n",
      "Product's quantity :  40\n",
      "milk  :  (48, 12)\n"
     ]
    }
   ],
   "source": [
    "products_list ={\"milk\" : (48 , 12) , \"eggs\" : (3 , 265)}\n",
    "while 1 :\n",
    "    a = input(\"1- add item. \\n 2- show items list. \\n 3- delete item. \\n 4- search for item. \\n 5- exit. \") \n",
    "    if a in \"12345\" :\n",
    "        if a == \"1\" :\n",
    "            product = input(\"please enter the product name : \")\n",
    "            price = float(input(\"please enter the product's price : \"))\n",
    "            quantity = int(input(\"please enter the product's quantity : \"))\n",
    "            products_list[product] = ( price , quantity)\n",
    "        elif a == \"2\" :\n",
    "            for i in products_list.keys() :\n",
    "                print(\"Product name : \",i)\n",
    "                print(\"Product's price : \",products_list[i][0])\n",
    "                print(\"Product's quantity : \",products_list[i][1])\n",
    "        elif  a == \"3\" : \n",
    "            y = input(\"Please enter item to delete : \")\n",
    "            if y in products_list.keys() : \n",
    "                products_list.pop(y) \n",
    "            else : \n",
    "                print(\"this item isn't exist.\")\n",
    "        elif a == \"4\" : \n",
    "            x = input(\"please enter an item : \")\n",
    "            if x in products_list.keys() : \n",
    "                print(x , \" : \" , products_list[x]) \n",
    "            else : \n",
    "                print(\"this item isn't exist.\")\n",
    "        elif a == \"5\" :\n",
    "            break \n",
    "        else : \n",
    "            print(\"unvalid input.\")\n",
    "    else : \n",
    "            print(\"unvalid input.\")\n"
   ]
  },
  {
   "cell_type": "code",
   "execution_count": null,
   "metadata": {},
   "outputs": [],
   "source": []
  }
 ],
 "metadata": {
  "kernelspec": {
   "display_name": "base",
   "language": "python",
   "name": "python3"
  },
  "language_info": {
   "codemirror_mode": {
    "name": "ipython",
    "version": 3
   },
   "file_extension": ".py",
   "mimetype": "text/x-python",
   "name": "python",
   "nbconvert_exporter": "python",
   "pygments_lexer": "ipython3",
   "version": "3.12.3"
  }
 },
 "nbformat": 4,
 "nbformat_minor": 2
}
