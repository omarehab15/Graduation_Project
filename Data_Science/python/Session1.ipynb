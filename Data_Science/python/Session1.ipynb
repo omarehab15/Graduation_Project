{
 "cells": [
  {
   "cell_type": "markdown",
   "metadata": {},
   "source": [
    "# Print Statement"
   ]
  },
  {
   "cell_type": "code",
   "execution_count": 1,
   "metadata": {},
   "outputs": [
    {
     "name": "stdout",
     "output_type": "stream",
     "text": [
      "Hello Python :) \n"
     ]
    }
   ],
   "source": [
    "print(\"Hello Python :) \")"
   ]
  },
  {
   "cell_type": "markdown",
   "metadata": {},
   "source": [
    "# Data Types"
   ]
  },
  {
   "cell_type": "code",
   "execution_count": 2,
   "metadata": {},
   "outputs": [
    {
     "name": "stdout",
     "output_type": "stream",
     "text": [
      "15\n",
      "<class 'int'>\n",
      "1.5\n",
      "<class 'float'>\n",
      "Omar\n",
      "<class 'str'>\n",
      "True\n",
      "<class 'bool'>\n"
     ]
    }
   ],
   "source": [
    "# variables \n",
    "x = 15          #int \n",
    "print(x)\n",
    "print(type(x))\n",
    "\n",
    "y = 1.5         #float \n",
    "print(y)\n",
    "print(type(y))\n",
    "\n",
    "z = \"Omar\"      #string \n",
    "print(z)\n",
    "print(type(z))\n",
    "\n",
    "f = True        #boolean  \n",
    "print(f)\n",
    "print(type(f))"
   ]
  },
  {
   "cell_type": "markdown",
   "metadata": {},
   "source": [
    "# Arithmetic Operation"
   ]
  },
  {
   "cell_type": "code",
   "execution_count": 4,
   "metadata": {},
   "outputs": [
    {
     "name": "stdout",
     "output_type": "stream",
     "text": [
      "18\n",
      "12\n",
      "45\n",
      "5.0\n",
      "5\n",
      "3375\n",
      "0\n"
     ]
    }
   ],
   "source": [
    "# '+' , '-' , '*' , '/' , '//' , '%' , '**'\n",
    "a = 15\n",
    "b = 3\n",
    "\n",
    "print(a+b)\n",
    "print(a-b)\n",
    "print(a*b)\n",
    "print(a/b)\n",
    "print(a//b)\n",
    "print(a**b)\n",
    "print(a%b)"
   ]
  },
  {
   "cell_type": "markdown",
   "metadata": {},
   "source": [
    "# Comparison Operations"
   ]
  },
  {
   "cell_type": "code",
   "execution_count": 5,
   "metadata": {},
   "outputs": [
    {
     "name": "stdout",
     "output_type": "stream",
     "text": [
      "True\n",
      "False\n",
      "False\n",
      "True\n",
      "False\n",
      "True\n"
     ]
    }
   ],
   "source": [
    "# '>' , '<' , '==' , '>=' , '<=' , '!=' \n",
    "\n",
    "a = 15\n",
    "b = 3\n",
    "\n",
    "print(a>b)\n",
    "print(a<b)\n",
    "print(a==b)\n",
    "print(a>=b)\n",
    "print(a<=b)\n",
    "print(a!=b)"
   ]
  },
  {
   "cell_type": "markdown",
   "metadata": {},
   "source": [
    "# Quiz "
   ]
  },
  {
   "cell_type": "code",
   "execution_count": 10,
   "metadata": {},
   "outputs": [
    {
     "name": "stdout",
     "output_type": "stream",
     "text": [
      "unvalid input please try again \n"
     ]
    }
   ],
   "source": [
    "x = 5            #int(input(\"please enter the hieght : \"))\n",
    "y =6             #int(input(\"please enter the width : \"))\n",
    "z =\"A\"               #int(input(\"please enter a random number : \"))\n",
    "types = [int , float]\n",
    "A = x *  y \n",
    "\n",
    "if type(x) in types and type(y) in types and type(z) in types :\n",
    "    if (z > A ) :\n",
    "        print(\"the number is greater than the area .\")\n",
    "    elif (z < A ) :\n",
    "        print(\"the area is greater than the number .\")\n",
    "    elif (z == A ) :\n",
    "        print(\"the number equal the area .\")\n",
    "else :\n",
    "    print(\"unvalid input please try again \")\n",
    "\n",
    "\n",
    "            "
   ]
  },
  {
   "cell_type": "code",
   "execution_count": null,
   "metadata": {},
   "outputs": [],
   "source": []
  }
 ],
 "metadata": {
  "kernelspec": {
   "display_name": "base",
   "language": "python",
   "name": "python3"
  },
  "language_info": {
   "codemirror_mode": {
    "name": "ipython",
    "version": 3
   },
   "file_extension": ".py",
   "mimetype": "text/x-python",
   "name": "python",
   "nbconvert_exporter": "python",
   "pygments_lexer": "ipython3",
   "version": "3.12.3"
  }
 },
 "nbformat": 4,
 "nbformat_minor": 2
}
